{
 "cells": [
  {
   "cell_type": "code",
   "execution_count": 17,
   "id": "f1b4e542",
   "metadata": {},
   "outputs": [
    {
     "name": "stdout",
     "output_type": "stream",
     "text": [
      "\n",
      "             |  |  \n",
      "           ---------\n",
      "             |  |  \n",
      "           ---------\n",
      "             |  |  \n",
      "            \n"
     ]
    }
   ],
   "source": [
    "def board():\n",
    "    spots = {1:\"\",2:\"\",3:\"\",4:\"\",5:\"\",6:\"\",7:\"\",8:\"\",9:\"\",}\n",
    "    area = (f'''\n",
    "            {spots.get(7)} | {spots.get(8)} | {spots.get(9)} \n",
    "           ---------\n",
    "            {spots.get(4)} | {spots.get(5)} | {spots.get(6)} \n",
    "           ---------\n",
    "            {spots.get(1)} | {spots.get(2)} | {spots.get(3)} \n",
    "            ''')\n",
    "    print(area)\n",
    "board()"
   ]
  },
  {
   "cell_type": "code",
   "execution_count": null,
   "id": "51632224",
   "metadata": {},
   "outputs": [],
   "source": [
    "def play():\n",
    "    "
   ]
  }
 ],
 "metadata": {
  "kernelspec": {
   "display_name": "Python 3",
   "language": "python",
   "name": "python3"
  },
  "language_info": {
   "codemirror_mode": {
    "name": "ipython",
    "version": 3
   },
   "file_extension": ".py",
   "mimetype": "text/x-python",
   "name": "python",
   "nbconvert_exporter": "python",
   "pygments_lexer": "ipython3",
   "version": "3.8.8"
  }
 },
 "nbformat": 4,
 "nbformat_minor": 5
}
